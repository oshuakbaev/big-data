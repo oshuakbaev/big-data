{
 "cells": [
  {
   "cell_type": "code",
   "execution_count": 1,
   "metadata": {},
   "outputs": [
    {
     "name": "stdout",
     "output_type": "stream",
     "text": [
      "   index      company   body-style  wheel-base  length engine-type  \\\n",
      "0      0  alfa-romero  convertible        88.6   168.8        dohc   \n",
      "1      1  alfa-romero  convertible        88.6   168.8        dohc   \n",
      "2      2  alfa-romero    hatchback        94.5   171.2        ohcv   \n",
      "3      3         audi        sedan        99.8   176.6         ohc   \n",
      "4      4         audi        sedan        99.4   176.6         ohc   \n",
      "\n",
      "  num-of-cylinders  horsepower  average-mileage    price  \n",
      "0             four         111               21  13495.0  \n",
      "1             four         111               21  16500.0  \n",
      "2              six         154               19  16500.0  \n",
      "3             four         102               24  13950.0  \n",
      "4             five         115               18  17450.0  \n",
      "    index     company body-style  wheel-base  length engine-type  \\\n",
      "56     81  volkswagen      sedan        97.3   171.7         ohc   \n",
      "57     82  volkswagen      sedan        97.3   171.7         ohc   \n",
      "58     86  volkswagen      sedan        97.3   171.7         ohc   \n",
      "59     87       volvo      sedan       104.3   188.8         ohc   \n",
      "60     88       volvo      wagon       104.3   188.8         ohc   \n",
      "\n",
      "   num-of-cylinders  horsepower  average-mileage    price  \n",
      "56             four          85               27   7975.0  \n",
      "57             four          52               37   7995.0  \n",
      "58             four         100               26   9995.0  \n",
      "59             four         114               23  12940.0  \n",
      "60             four         114               23  13415.0  \n"
     ]
    }
   ],
   "source": [
    "import pandas as pd\n",
    "\n",
    "# Загрузка данных\n",
    "data = pd.read_csv('C:/Users/lucky/Documents/University/7s semestr/big data/github/big-data/Auto_dataset.csv')\n",
    "\n",
    "# Вывод первых пять строк\n",
    "print(data.head())\n",
    "\n",
    "# Вывод последних пять строк\n",
    "print(data.tail())\n",
    "\n",
    "\n"
   ]
  },
  {
   "cell_type": "code",
   "execution_count": 2,
   "metadata": {},
   "outputs": [],
   "source": [
    "import warnings\n",
    "warnings.filterwarnings(\"ignore\")\n",
    "\n",
    "import pandas as pd\n",
    "\n",
    "# Загрузка данных\n",
    "data = pd.read_csv('C:/Users/lucky/Documents/University/7s semestr/big data/github/big-data/Auto_dataset.csv')\n",
    "\n",
    "# Замена ? и n.a на NaN\n",
    "data.replace(['?', 'n.a'], pd.NA, inplace=True)\n",
    "\n",
    "# Заполнение пропущенных значений (NaN)\n",
    "data.fillna(method ='ffill', inplace = True)\n",
    "\n",
    "# Сохранение обновленного файла\n",
    "data.to_csv('C:/Users/lucky/Documents/University/7s semestr/big data/github/big-data/Auto_dataset.csv', index=False)\n"
   ]
  },
  {
   "cell_type": "code",
   "execution_count": 3,
   "metadata": {},
   "outputs": [
    {
     "name": "stdout",
     "output_type": "stream",
     "text": [
      "Most Expensive: mercedes-benz\n",
      "Least Expensive: chevrolet\n"
     ]
    }
   ],
   "source": [
    "import warnings\n",
    "warnings.filterwarnings(\"ignore\")\n",
    "\n",
    "import pandas as pd\n",
    "\n",
    "# Загрузка данных\n",
    "data = pd.read_csv('C:/Users/lucky/Documents/University/7s semestr/big data/github/big-data/Auto_dataset.csv')\n",
    "\n",
    "# Находим компанию с самой высокой и низкой ценой\n",
    "most_expensive = data.loc[data['price'].idxmax()]['company']\n",
    "least_expensive = data.loc[data['price'].idxmin()]['company']\n",
    "\n",
    "print(f'Most Expensive: {most_expensive}')\n",
    "print(f'Least Expensive: {least_expensive}')"
   ]
  },
  {
   "cell_type": "code",
   "execution_count": 4,
   "metadata": {},
   "outputs": [
    {
     "name": "stdout",
     "output_type": "stream",
     "text": [
      "    index company body-style  wheel-base  length engine-type num-of-cylinders  \\\n",
      "7       9     bmw      sedan       101.2   176.8         ohc             four   \n",
      "8      10     bmw      sedan       101.2   176.8         ohc             four   \n",
      "9      11     bmw      sedan       101.2   176.8         ohc              six   \n",
      "10     13     bmw      sedan       103.5   189.0         ohc              six   \n",
      "11     14     bmw      sedan       103.5   193.8         ohc              six   \n",
      "12     15     bmw      sedan       110.0   197.0         ohc              six   \n",
      "\n",
      "    horsepower  average-mileage    price  \n",
      "7          101               23  16430.0  \n",
      "8          101               23  16925.0  \n",
      "9          121               21  20970.0  \n",
      "10         182               16  30760.0  \n",
      "11         182               16  41315.0  \n",
      "12         182               15  36880.0  \n"
     ]
    }
   ],
   "source": [
    "import warnings\n",
    "warnings.filterwarnings(\"ignore\")\n",
    "\n",
    "import pandas as pd\n",
    "\n",
    "# Загрузка данных\n",
    "data = pd.read_csv('C:/Users/lucky/Documents/University/7s semestr/big data/github/big-data/Auto_dataset.csv')\n",
    "\n",
    "bmw_data = data[data['company'] == 'bmw']\n",
    "print(bmw_data)"
   ]
  },
  {
   "cell_type": "code",
   "execution_count": 5,
   "metadata": {},
   "outputs": [
    {
     "name": "stdout",
     "output_type": "stream",
     "text": [
      "company\n",
      "toyota           7\n",
      "bmw              6\n",
      "mazda            5\n",
      "nissan           5\n",
      "audi             4\n",
      "mercedes-benz    4\n",
      "mitsubishi       4\n",
      "volkswagen       4\n",
      "alfa-romero      3\n",
      "chevrolet        3\n",
      "honda            3\n",
      "isuzu            3\n",
      "jaguar           3\n",
      "porsche          3\n",
      "dodge            2\n",
      "volvo            2\n",
      "Name: count, dtype: int64\n"
     ]
    }
   ],
   "source": [
    "import warnings\n",
    "warnings.filterwarnings(\"ignore\")\n",
    "\n",
    "import pandas as pd\n",
    "\n",
    "# Загрузка данных\n",
    "data = pd.read_csv('C:/Users/lucky/Documents/University/7s semestr/big data/github/big-data/Auto_dataset.csv')\n",
    "\n",
    "car_count_per_company = data['company'].value_counts()\n",
    "print(car_count_per_company)"
   ]
  },
  {
   "cell_type": "code",
   "execution_count": 6,
   "metadata": {},
   "outputs": [
    {
     "name": "stdout",
     "output_type": "stream",
     "text": [
      "    index        company   body-style  wheel-base  length engine-type  \\\n",
      "1       1    alfa-romero  convertible        88.6   168.8        dohc   \n",
      "6       6           audi        wagon       105.8   192.7         ohc   \n",
      "11     14            bmw        sedan       103.5   193.8         ohc   \n",
      "15     18      chevrolet        sedan        94.5   158.8         ohc   \n",
      "16     19          dodge    hatchback        93.7   157.3         ohc   \n",
      "19     28          honda        sedan        96.5   175.4         ohc   \n",
      "21     30          isuzu        sedan        94.3   170.7         ohc   \n",
      "26     35         jaguar        sedan       102.0   191.7        ohcv   \n",
      "31     43          mazda        sedan       104.9   175.0         ohc   \n",
      "35     47  mercedes-benz      hardtop       112.0   199.2        ohcv   \n",
      "39     52     mitsubishi        sedan        96.3   172.4         ohc   \n",
      "44     57         nissan        sedan       100.4   184.6        ohcv   \n",
      "46     62        porsche  convertible        89.5   168.9        ohcf   \n",
      "54     79         toyota        wagon       104.5   187.8        dohc   \n",
      "58     86     volkswagen        sedan        97.3   171.7         ohc   \n",
      "60     88          volvo        wagon       104.3   188.8         ohc   \n",
      "\n",
      "   num-of-cylinders  horsepower  average-mileage    price  \n",
      "1              four         111               21  16500.0  \n",
      "6              five         110               19  18920.0  \n",
      "11              six         182               16  41315.0  \n",
      "15             four          70               38   6575.0  \n",
      "16             four          68               31   6377.0  \n",
      "19             four         101               24  12945.0  \n",
      "21             four          78               24   6785.0  \n",
      "26           twelve         262               13  36000.0  \n",
      "31             four          72               31  18344.0  \n",
      "35            eight         184               14  45400.0  \n",
      "39             four          88               25   8189.0  \n",
      "44              six         152               19  13499.0  \n",
      "46              six         207               17  37028.0  \n",
      "54              six         156               19  15750.0  \n",
      "58             four         100               26   9995.0  \n",
      "60             four         114               23  13415.0  \n"
     ]
    }
   ],
   "source": [
    "import warnings\n",
    "warnings.filterwarnings(\"ignore\")\n",
    "\n",
    "import pandas as pd\n",
    "\n",
    "# Загрузка данных\n",
    "data = pd.read_csv('C:/Users/lucky/Documents/University/7s semestr/big data/github/big-data/Auto_dataset.csv')\n",
    "\n",
    "expensive_car_per_company = data.loc[data.groupby('company')['price'].idxmax()]\n",
    "print(expensive_car_per_company)"
   ]
  },
  {
   "cell_type": "code",
   "execution_count": 7,
   "metadata": {},
   "outputs": [
    {
     "name": "stdout",
     "output_type": "stream",
     "text": [
      "company\n",
      "alfa-romero       90.566667\n",
      "audi             101.200000\n",
      "bmw              103.433333\n",
      "chevrolet         92.466667\n",
      "dodge             93.700000\n",
      "honda             96.500000\n",
      "isuzu             94.433333\n",
      "jaguar           109.333333\n",
      "mazda             95.900000\n",
      "mercedes-benz    113.225000\n",
      "mitsubishi        95.000000\n",
      "nissan            95.680000\n",
      "porsche           92.466667\n",
      "toyota            96.957143\n",
      "volkswagen        97.300000\n",
      "volvo            104.300000\n",
      "Name: wheel-base, dtype: float64\n"
     ]
    }
   ],
   "source": [
    "import warnings\n",
    "warnings.filterwarnings(\"ignore\")\n",
    "\n",
    "import pandas as pd\n",
    "\n",
    "# Загрузка данных\n",
    "data = pd.read_csv('C:/Users/lucky/Documents/University/7s semestr/big data/github/big-data/Auto_dataset.csv')\n",
    "\n",
    "average_mileage_per_company = data.groupby('company')['wheel-base'].mean()\n",
    "print(average_mileage_per_company)"
   ]
  },
  {
   "cell_type": "code",
   "execution_count": 8,
   "metadata": {},
   "outputs": [
    {
     "name": "stdout",
     "output_type": "stream",
     "text": [
      "    index        company   body-style  wheel-base  length engine-type  \\\n",
      "35     47  mercedes-benz      hardtop       112.0   199.2        ohcv   \n",
      "11     14            bmw        sedan       103.5   193.8         ohc   \n",
      "34     46  mercedes-benz        sedan       120.9   208.1        ohcv   \n",
      "46     62        porsche  convertible        89.5   168.9        ohcf   \n",
      "47     63        porsche    hatchback        98.4   175.7       dohcv   \n",
      "..    ...            ...          ...         ...     ...         ...   \n",
      "28     37          mazda    hatchback        93.1   159.1         ohc   \n",
      "36     49     mitsubishi    hatchback        93.7   157.3         ohc   \n",
      "48     66         toyota    hatchback        95.7   158.7         ohc   \n",
      "27     36          mazda    hatchback        93.1   159.1         ohc   \n",
      "13     16      chevrolet    hatchback        88.4   141.1           l   \n",
      "\n",
      "   num-of-cylinders  horsepower  average-mileage    price  \n",
      "35            eight         184               14  45400.0  \n",
      "11              six         182               16  41315.0  \n",
      "34            eight         184               14  40960.0  \n",
      "46              six         207               17  37028.0  \n",
      "47            eight         288               17  37028.0  \n",
      "..              ...         ...              ...      ...  \n",
      "28             four          68               31   6095.0  \n",
      "36             four          68               37   5389.0  \n",
      "48             four          62               35   5348.0  \n",
      "27             four          68               30   5195.0  \n",
      "13            three          48               47   5151.0  \n",
      "\n",
      "[61 rows x 10 columns]\n"
     ]
    }
   ],
   "source": [
    "import warnings\n",
    "warnings.filterwarnings(\"ignore\")\n",
    "\n",
    "import pandas as pd\n",
    "\n",
    "# Загрузка данных\n",
    "data = pd.read_csv('C:/Users/lucky/Documents/University/7s semestr/big data/github/big-data/Auto_dataset.csv')\n",
    "\n",
    "sorted_data = data.sort_values(by='price', ascending=False)\n",
    "print(sorted_data)"
   ]
  }
 ],
 "metadata": {
  "kernelspec": {
   "display_name": "Python 3",
   "language": "python",
   "name": "python3"
  },
  "language_info": {
   "codemirror_mode": {
    "name": "ipython",
    "version": 3
   },
   "file_extension": ".py",
   "mimetype": "text/x-python",
   "name": "python",
   "nbconvert_exporter": "python",
   "pygments_lexer": "ipython3",
   "version": "3.12.0"
  }
 },
 "nbformat": 4,
 "nbformat_minor": 2
}
